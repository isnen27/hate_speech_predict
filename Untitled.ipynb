{
 "cells": [
  {
   "cell_type": "code",
   "execution_count": 1,
   "id": "9f450b47",
   "metadata": {},
   "outputs": [
    {
     "ename": "ModuleNotFoundError",
     "evalue": "No module named 'spacy'",
     "output_type": "error",
     "traceback": [
      "\u001b[0;31m---------------------------------------------------------------------------\u001b[0m",
      "\u001b[0;31mModuleNotFoundError\u001b[0m                       Traceback (most recent call last)",
      "Cell \u001b[0;32mIn[1], line 1\u001b[0m\n\u001b[0;32m----> 1\u001b[0m \u001b[38;5;28;01mimport\u001b[39;00m \u001b[38;5;21;01mspacy\u001b[39;00m\n\u001b[1;32m      3\u001b[0m \u001b[38;5;66;03m# Memuat model bahasa yang telah dilatih dengan spaCy\u001b[39;00m\n\u001b[1;32m      4\u001b[0m nlp \u001b[38;5;241m=\u001b[39m spacy\u001b[38;5;241m.\u001b[39mload(\u001b[38;5;124m\"\u001b[39m\u001b[38;5;124mxx_ent_wiki_sm\u001b[39m\u001b[38;5;124m\"\u001b[39m)\n",
      "\u001b[0;31mModuleNotFoundError\u001b[0m: No module named 'spacy'"
     ]
    }
   ],
   "source": [
    "import spacy\n",
    "\n",
    "# Memuat model bahasa yang telah dilatih dengan spaCy\n",
    "nlp = spacy.load(\"xx_ent_wiki_sm\")\n",
    "\n",
    "# Kalimat input\n",
    "kalimat = \"Joko pergi ke Bandung\"\n",
    "\n",
    "# Memproses kalimat dengan spaCy\n",
    "doc = nlp(kalimat)\n",
    "\n",
    "# Menambahkan tag NER ke seluruh kata dalam kalimat\n",
    "kalimat_ner = \"\"\n",
    "for token in doc:\n",
    "    if token.ent_type_:\n",
    "        kalimat_ner += f\"<I-{token.ent_type_}/>{token.text} \"\n",
    "    else:\n",
    "        kalimat_ner += token.text + \" \"\n",
    "\n",
    "print(kalimat_ner.strip())"
   ]
  },
  {
   "cell_type": "code",
   "execution_count": null,
   "id": "141b4386",
   "metadata": {},
   "outputs": [],
   "source": []
  }
 ],
 "metadata": {
  "kernelspec": {
   "display_name": "Python 3 (ipykernel)",
   "language": "python",
   "name": "python3"
  },
  "language_info": {
   "codemirror_mode": {
    "name": "ipython",
    "version": 3
   },
   "file_extension": ".py",
   "mimetype": "text/x-python",
   "name": "python",
   "nbconvert_exporter": "python",
   "pygments_lexer": "ipython3",
   "version": "3.10.9"
  }
 },
 "nbformat": 4,
 "nbformat_minor": 5
}
